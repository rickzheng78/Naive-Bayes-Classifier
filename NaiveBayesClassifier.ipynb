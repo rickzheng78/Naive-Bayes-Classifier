{
 "cells": [
  {
   "cell_type": "code",
   "execution_count": 267,
   "id": "44703c16",
   "metadata": {},
   "outputs": [],
   "source": [
    "import sys\n",
    "import numpy as np\n",
    "import pandas as pd\n",
    "import seaborn as sns\n",
    "import matplotlib.pyplot as plt\n",
    "import math\n",
    "import glmnet_python\n",
    "from glmnet import glmnet\n",
    "import time"
   ]
  },
  {
   "cell_type": "code",
   "execution_count": 268,
   "id": "34d493d8",
   "metadata": {},
   "outputs": [],
   "source": [
    "beginning = time.perf_counter()\n",
    "column_names = [\"age\", \"gender\", \"height_cm\", \"weight_kg\", \"body fat_%\",\n",
    "\"diastolic\", \"systolic\", \"grip_force\", \"sit_and_bend_forward_cm\", \"sit_up_count\", \"broad_jump_cm\", \"class\"]\n",
    "\n",
    "training = pd.read_csv('training.txt', sep=',', header = None, names = column_names)\n",
    "testing = pd.read_csv('testing.txt', sep=',', header = None, names = column_names)"
   ]
  },
  {
   "cell_type": "code",
   "execution_count": 269,
   "id": "a76255f0",
   "metadata": {},
   "outputs": [
    {
     "data": {
      "text/plain": [
       "0       29.0\n",
       "1       36.0\n",
       "2       60.0\n",
       "3       31.0\n",
       "4       32.0\n",
       "        ... \n",
       "2006    25.0\n",
       "2007    21.0\n",
       "2008    39.0\n",
       "2009    64.0\n",
       "2010    34.0\n",
       "Name: age, Length: 2011, dtype: float64"
      ]
     },
     "execution_count": 269,
     "metadata": {},
     "output_type": "execute_result"
    }
   ],
   "source": [
    "training[\"gender\"].replace({'M': 1, 'F': 0}, inplace = True)\n",
    "training = training.astype(float)\n",
    "training.pop(\"grip_force\")\n",
    "training.pop(\"age\")\n",
    "\n",
    "testing[\"gender\"].replace({'M': 1, 'F': 0}, inplace = True)\n",
    "testing = testing.astype(float)\n",
    "testing.pop(\"grip_force\")\n",
    "testing.pop(\"age\")\n",
    "\n"
   ]
  },
  {
   "cell_type": "code",
   "execution_count": 270,
   "id": "ff69572c",
   "metadata": {},
   "outputs": [],
   "source": [
    "#EDA"
   ]
  },
  {
   "cell_type": "code",
   "execution_count": 271,
   "id": "27b790c6",
   "metadata": {},
   "outputs": [
    {
     "data": {
      "text/plain": [
       "<AxesSubplot:>"
      ]
     },
     "execution_count": 271,
     "metadata": {},
     "output_type": "execute_result"
    },
    {
     "data": {
      "image/png": "[encoded data removed]",
      "text/plain": [
       "<Figure size 432x288 with 1 Axes>"
      ]
     },
     "metadata": {
      "needs_background": "light"
     },
     "output_type": "display_data"
    }
   ],
   "source": [
    "training[\"class\"].hist()"
   ]
  },
  {
   "cell_type": "code",
   "execution_count": 272,
   "id": "1cc2a26e",
   "metadata": {},
   "outputs": [],
   "source": [
    "removing_class_corr = training.drop(\"class\", axis = 1).corr()\n",
    "\n",
    "plt.figure(figsize=(14,14))\n",
    "correlation_visual = sns.heatmap(removing_class_corr, annot=True, cmap=\"OrRd\")"
   ]
  },
  {
   "cell_type": "code",
   "execution_count": 273,
   "id": "9f83b8a1",
   "metadata": {},
   "outputs": [],
   "source": [
    "fitting distributions to the predictor variables, hope to see normal\n",
    "fig, axes = plt.subplots(1, 3, figsize=(18, 6), sharey=False)\n",
    "sns.histplot(training, ax=axes[0], x=\"age\", kde=True)\n",
    "sns.histplot(training, ax=axes[1], x=\"gender\", kde=True)\n",
    "sns.histplot(training, ax=axes[2], x=\"height_cm\", kde=True)"
   ]
  },
  {
   "cell_type": "code",
   "execution_count": 274,
   "id": "0939f457",
   "metadata": {},
   "outputs": [],
   "source": [
    "fig, axes = plt.subplots(1, 3, figsize=(18, 6), sharey=False)\n",
    "sns.histplot(training, ax=axes[0], x=\"weight_kg\", kde=True)\n",
    "sns.histplot(training, ax=axes[1], x=\"body fat_%\", kde=True)\n",
    "sns.histplot(training, ax=axes[2], x=\"diastolic\", kde=True)"
   ]
  },
  {
   "cell_type": "code",
   "execution_count": 275,
   "id": "7c1beae5",
   "metadata": {},
   "outputs": [],
   "source": [
    "fig, axes = plt.subplots(1, 3, figsize=(18, 6), sharey=False)\n",
    "sns.histplot(training, ax=axes[0], x=\"systolic\", kde=True)\n",
    "sns.histplot(training, ax=axes[1], x=\"grip_force\", kde=True)\n",
    "sns.histplot(training, ax=axes[2], x=\"sit_and_bend_forward_cm\", kde=True)"
   ]
  },
  {
   "cell_type": "code",
   "execution_count": 276,
   "id": "c725c2ff",
   "metadata": {},
   "outputs": [],
   "source": [
    "fig, axes = plt.subplots(1, 2, figsize=(18, 6), sharey=True)\n",
    "sns.histplot(training, ax=axes[0], x=\"sit_up_count\", kde=True)\n",
    "sns.histplot(training, ax=axes[1], x=\"broad_jump_cm\", kde=True)"
   ]
  },
  {
   "cell_type": "code",
   "execution_count": 277,
   "id": "d7659a0d",
   "metadata": {},
   "outputs": [],
   "source": [
    "Naive Bayes, Algo\n",
    "https://www.machinelearningplus.com/predictive-modeling/how-naive-bayes-algorithm-works-with-example-and-full-code"
   ]
  },
  {
   "cell_type": "code",
   "execution_count": 278,
   "id": "fa0b2f4f",
   "metadata": {},
   "outputs": [],
   "source": [
    "#Step 1: Computing Prior probabilities for each of the class of Y\n"
   ]
  },
  {
   "cell_type": "code",
   "execution_count": 279,
   "id": "3e0e69ae",
   "metadata": {},
   "outputs": [],
   "source": [
    "#Step 2: Calculating probability of likelihood of evidences (Assuming all predictor variables are independent), so using Gaussian distribution\n",
    "\n",
    "def single_likelihood(dataset, X_name, X_value, Y_column, Y_value):\n",
    "    list(dataset.columns)\n",
    "    new_dataset = dataset[dataset[Y_column] == Y_value]\n",
    "    mean = new_dataset[X_name].mean()\n",
    "    std = new_dataset[X_name].std()\n",
    "    left_side_likelihood = 1 / (std * np.sqrt(2 * np.pi))\n",
    "    right_side_likelihood = np.exp(-0.5*((X_value - mean) / std) ** 2)\n",
    "    computed_likelihood =  left_side_likelihood * right_side_likelihood\n",
    "    return computed_likelihood\n",
    "    "
   ]
  },
  {
   "cell_type": "code",
   "execution_count": 280,
   "id": "53e4f76e",
   "metadata": {},
   "outputs": [],
   "source": [
    "#Step 2 (continued): Calculating numerator for baye's rule for all y and compare to find maximum\n",
    "\n",
    "\n",
    "def posterior(dataset, X_rows, Y_column):\n",
    "    X_predictors = list(dataset.columns[:-1])\n",
    "    Y_classes = list(dataset[Y_column].unique())\n",
    "    priorr = [0.5]*2\n",
    "    predictions = []\n",
    "    \n",
    "    for i in X_rows:\n",
    "        total_likelihoods = [1]*2\n",
    "        numerator = []\n",
    "        for j in range(len(Y_classes)):\n",
    "            for k in range(len(X_predictors)):\n",
    "                total_likelihoods[j] *= single_likelihood(dataset, X_predictors[k], i[k], Y_column, Y_classes[j])\n",
    "            numerator.append(total_likelihoods[j] * priorr[j])\n",
    "\n",
    "        predictions.append(np.argmax(numerator))\n",
    "        \n",
    "    \n",
    "    return predictions\n",
    "        "
   ]
  },
  {
   "cell_type": "code",
   "execution_count": 281,
   "id": "82aa5c75",
   "metadata": {},
   "outputs": [],
   "source": [
    "X_test = testing.drop(\"class\", axis = 1).values\n",
    "Y_test = testing[\"class\"].values\n",
    "X_train = training.drop(\"class\", axis = 1).values\n",
    "Y_train = training[\"class\"].values\n",
    "Y_pred = posterior(training, X_test, \"class\")\n",
    "Y1_pred = posterior(training, X_train, \"class\")\n"
   ]
  },
  {
   "cell_type": "code",
   "execution_count": 286,
   "id": "e690678e",
   "metadata": {},
   "outputs": [
    {
     "data": {
      "text/plain": [
       "0.7901541521631029"
      ]
     },
     "execution_count": 286,
     "metadata": {},
     "output_type": "execute_result"
    }
   ],
   "source": [
    "np.sum(Y_pred == Y_test) / len(Y_pred)\n"
   ]
  },
  {
   "cell_type": "code",
   "execution_count": 287,
   "id": "c0c68134",
   "metadata": {},
   "outputs": [
    {
     "data": {
      "text/plain": [
       "0.7732077205882353"
      ]
     },
     "execution_count": 287,
     "metadata": {},
     "output_type": "execute_result"
    }
   ],
   "source": [
    "np.sum(Y1_pred == Y_train) / len(Y_train)\n"
   ]
  },
  {
   "cell_type": "code",
   "execution_count": 285,
   "id": "6ff1464a",
   "metadata": {},
   "outputs": [
    {
     "name": "stdout",
     "output_type": "stream",
     "text": [
      "10.270845667000685\n"
     ]
    }
   ],
   "source": [
    "end = time.perf_counter()\n",
    "timing = end -beginning\n",
    "print(timing)"
   ]
  }
 ],
 "metadata": {
  "kernelspec": {
   "display_name": "Python 3 (ipykernel)",
   "language": "python",
   "name": "python3"
  },
  "language_info": {
   "codemirror_mode": {
    "name": "ipython",
    "version": 3
   },
   "file_extension": ".py",
   "mimetype": "text/x-python",
   "name": "python",
   "nbconvert_exporter": "python",
   "pygments_lexer": "ipython3",
   "version": "3.8.8"
  }
 },
 "nbformat": 4,
 "nbformat_minor": 5
}
